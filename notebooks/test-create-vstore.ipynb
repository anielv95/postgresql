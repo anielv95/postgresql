{
 "cells": [
  {
   "cell_type": "code",
   "execution_count": null,
   "metadata": {},
   "outputs": [],
   "source": [
    "\n",
    "from dotenv import load_dotenv, find_dotenv\n",
    "from google.cloud.sql.connector import Connector\n",
    "import os\n",
    "import pandas as pd\n",
    "import sqlalchemy"
   ]
  },
  {
   "cell_type": "code",
   "execution_count": null,
   "metadata": {},
   "outputs": [],
   "source": [
    "df = pd.read_parquet(\"../../Product-Descriptions-and-Ads/data/train-00000-of-00001-36bd1b172faedc74.parquet\")"
   ]
  },
  {
   "cell_type": "code",
   "execution_count": null,
   "metadata": {},
   "outputs": [],
   "source": [
    "df[[\"description\"]][:10]"
   ]
  },
  {
   "cell_type": "code",
   "execution_count": null,
   "metadata": {},
   "outputs": [],
   "source": [
    "_ = load_dotenv(find_dotenv())"
   ]
  },
  {
   "cell_type": "code",
   "execution_count": null,
   "metadata": {},
   "outputs": [],
   "source": [
    "def execute_instruction(sql_instruction:str):\n",
    "    project_id = os.environ[\"PROJECT_ID\"]\n",
    "    region = os.environ[\"REGION\"]\n",
    "    instance_name = os.environ[\"INSTANCE_NAME\"]\n",
    "\n",
    "    INSTANCE_CONNECTION_NAME = f\"{project_id}:{region}:{instance_name}\" # i.e demo-project:us-central1:demo-instance\n",
    "    DB_USER = os.environ[\"DB_USER\"]\n",
    "    DB_PASS = os.environ[\"DB_PASS\"]\n",
    "    DB_NAME = os.environ[\"DB_NAME\"]\n",
    "\n",
    "    connector = Connector()\n",
    "\n",
    "    # function to return the database connection object\n",
    "    def getconn():\n",
    "        conn = connector.connect(\n",
    "            INSTANCE_CONNECTION_NAME,\n",
    "            \"pg8000\",\n",
    "            user=DB_USER,\n",
    "            password=DB_PASS,\n",
    "            db=DB_NAME\n",
    "        )\n",
    "        return conn\n",
    "\n",
    "    # create connection pool with 'creator' argument to our connection object function\n",
    "    pool = sqlalchemy.create_engine(\n",
    "        \"postgresql+pg8000://\",\n",
    "        creator=getconn,\n",
    "    )\n",
    "\n",
    "    # connect to connection pool\n",
    "    with pool.connect() as db_conn:\n",
    "\n",
    "    # query and fetch ratings table\n",
    "    #   results = db_conn.execute(sqlalchemy.text(\"SELECT * FROM ratings\")).fetchall()\n",
    "#         sql_instruction = '''SELECT datname FROM pg_database\n",
    "# WHERE datistemplate = false;'''\n",
    "        results = db_conn.execute(sqlalchemy.text(sql_instruction))\n",
    "\n",
    "    # show results\n",
    "        # for row in results:\n",
    "        #     print(row)\n",
    "\n",
    "    connector.close()\n",
    "    return results"
   ]
  },
  {
   "cell_type": "code",
   "execution_count": null,
   "metadata": {},
   "outputs": [],
   "source": [
    "inst = \"\"\"CREATE EXTENSION vector;\"\"\"\n",
    "val = execute_instruction(inst)\n",
    "val"
   ]
  },
  {
   "cell_type": "code",
   "execution_count": null,
   "metadata": {},
   "outputs": [],
   "source": [
    "# Save the Pandas dataframe in a PostgreSQL table.\n",
    "import asyncio\n",
    "import asyncpg\n",
    "from google.cloud.sql.connector import Connector\n",
    "\n",
    "async def main():\n",
    "    loop = asyncio.get_running_loop()\n",
    "    async with Connector(loop=loop) as connector:\n",
    "        # Create connection to Cloud SQL database\n",
    "        conn: asyncpg.Connection = await connector.connect_async(\n",
    "            f\"{project_id}:{region}:{instance_name}\",  # Cloud SQL instance connection name\n",
    "            \"asyncpg\",\n",
    "            user=f\"{database_user}\",\n",
    "            password=f\"{database_password}\",\n",
    "            db=f\"{database_name}\"\n",
    "        )\n",
    "\n",
    "        # Create the `products` table.\t \n",
    "        await conn.execute(\"\"\"CREATE TABLE products(\n",
    "                                product_id VARCHAR(1024) PRIMARY KEY,\n",
    "                                product_name TEXT,\n",
    "                                description TEXT,\n",
    "                                list_price NUMERIC)\"\"\")\n",
    "\n",
    "        # Copy the dataframe to the `products` table.\n",
    "        tuples = list(df.itertuples(index=False))\n",
    "        await conn.copy_records_to_table('products', records=tuples, columns=list(df), timeout=10)\n",
    "        await conn.close()\n",
    "\n",
    "\n",
    "# Run the SQL commands now.\n",
    "await main() # type: ignore"
   ]
  },
  {
   "cell_type": "code",
   "execution_count": null,
   "metadata": {},
   "outputs": [],
   "source": []
  },
  {
   "cell_type": "code",
   "execution_count": null,
   "metadata": {},
   "outputs": [],
   "source": []
  },
  {
   "cell_type": "code",
   "execution_count": null,
   "metadata": {},
   "outputs": [],
   "source": []
  },
  {
   "cell_type": "code",
   "execution_count": null,
   "metadata": {},
   "outputs": [],
   "source": [
    "def get_connection():\n",
    "    project_id = os.environ[\"PROJECT_ID\"]\n",
    "    region = os.environ[\"REGION\"]\n",
    "    instance_name = os.environ[\"INSTANCE_NAME\"]\n",
    "\n",
    "    INSTANCE_CONNECTION_NAME = f\"{project_id}:{region}:{instance_name}\" # i.e demo-project:us-central1:demo-instance\n",
    "    DB_USER = os.environ[\"DB_USER\"]\n",
    "    DB_PASS = os.environ[\"DB_PASS\"]\n",
    "    DB_NAME = os.environ[\"DB_NAME\"]\n",
    "\n",
    "    connector = Connector()\n",
    "\n",
    "    # function to return the database connection object\n",
    "    def getconn():\n",
    "        conn = connector.connect(\n",
    "            INSTANCE_CONNECTION_NAME,\n",
    "            \"pg8000\",\n",
    "            user=DB_USER,\n",
    "            password=DB_PASS,\n",
    "            db=DB_NAME\n",
    "        )\n",
    "        return conn\n",
    "\n",
    "    # create connection pool with 'creator' argument to our connection object function\n",
    "    pool = sqlalchemy.create_engine(\n",
    "        \"postgresql+pg8000://\",\n",
    "        creator=getconn,\n",
    "    )\n",
    "\n",
    "    # connect to connection pool\n",
    "    #with pool.connect() as db_conn:\n",
    "\n",
    "    # query and fetch ratings table\n",
    "    #   results = db_conn.execute(sqlalchemy.text(\"SELECT * FROM ratings\")).fetchall()\n",
    "#         sql_instruction = '''SELECT datname FROM pg_database\n",
    "# WHERE datistemplate = false;'''\n",
    "        #results = db_conn.execute(sqlalchemy.text(sql_instruction))\n",
    "\n",
    "    # show results\n",
    "        # for row in results:\n",
    "        #     print(row)\n",
    "\n",
    "    #connector.close()\n",
    "    return pool"
   ]
  },
  {
   "cell_type": "code",
   "execution_count": null,
   "metadata": {},
   "outputs": [],
   "source": [
    "pool_ = get_connection()"
   ]
  },
  {
   "cell_type": "code",
   "execution_count": null,
   "metadata": {},
   "outputs": [],
   "source": [
    "inst = \"\"\"SELECT datname FROM pg_database\"\"\""
   ]
  },
  {
   "cell_type": "code",
   "execution_count": null,
   "metadata": {},
   "outputs": [],
   "source": [
    "with pool_.connect() as db_conn:\n",
    "    results = db_conn.execute(sqlalchemy.text(inst))\n",
    "print(results.fetchall())"
   ]
  },
  {
   "cell_type": "code",
   "execution_count": null,
   "metadata": {},
   "outputs": [],
   "source": []
  }
 ],
 "metadata": {
  "kernelspec": {
   "display_name": "Python 3",
   "language": "python",
   "name": "python3"
  },
  "language_info": {
   "codemirror_mode": {
    "name": "ipython",
    "version": 3
   },
   "file_extension": ".py",
   "mimetype": "text/x-python",
   "name": "python",
   "nbconvert_exporter": "python",
   "pygments_lexer": "ipython3",
   "version": "3.11.3"
  }
 },
 "nbformat": 4,
 "nbformat_minor": 2
}
