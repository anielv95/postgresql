{
 "cells": [
  {
   "cell_type": "code",
   "execution_count": null,
   "metadata": {},
   "outputs": [],
   "source": [
    "from huggingface_hub import login\n",
    "login()"
   ]
  },
  {
   "cell_type": "code",
   "execution_count": null,
   "metadata": {},
   "outputs": [],
   "source": [
    "import transformers\n",
    "import torch\n",
    "\n",
    "model_id = \"meta-llama/Meta-Llama-3.1-70B-Instruct\"\n",
    "\n",
    "pipeline = transformers.pipeline(\n",
    "    \"text-generation\",\n",
    "    model=model_id,\n",
    "    model_kwargs={\"torch_dtype\": torch.bfloat16},\n",
    "    device_map=\"auto\",\n",
    ")\n",
    "\n",
    "messages = [\n",
    "    {\"role\": \"system\", \"content\": \"You are an assistant who always generate similar email to the one provided\"},\n",
    "    {\"role\": \"user\", \"content\": \"\"\"Hi John,\n",
    "\n",
    "Very happy to hear from you, could we have our meeting at your 12:30 or 1:00 pm on Tuesday - Friday?\n",
    "\n",
    "Regards\"\"\"},\n",
    "]\n",
    "\n",
    "outputs = pipeline(\n",
    "    messages,\n",
    "    max_new_tokens=256,\n",
    ")\n",
    "print(outputs[0][\"generated_text\"][-1])\n"
   ]
  },
  {
   "cell_type": "code",
   "execution_count": null,
   "metadata": {},
   "outputs": [],
   "source": [
    "import transformers\n",
    "import torch\n",
    "\n",
    "model_id = \"meta-llama/Meta-Llama-3.1-70B-Instruct\"\n",
    "\n",
    "pipeline = transformers.pipeline(\n",
    "    \"text-generation\",\n",
    "    model=model_id,\n",
    "    model_kwargs={\"torch_dtype\": torch.bfloat16},\n",
    "    device_map=\"auto\",\n",
    ")\n",
    "\n",
    "def create_synthetic_emails(email_list:list):\n",
    "    synthetic_emails = []\n",
    "    for ith_email in email_list:\n",
    "        messages = messages = [\n",
    "            {\"role\": \"system\", \"content\": \"You are an assistant who always generate similar email to the one provided\"},\n",
    "            {\"role\": \"user\", \"content\": f'{ith_email}'},\n",
    "        ]\n",
    "        outputs = pipeline(\n",
    "            messages,\n",
    "            max_new_tokens=256,\n",
    "        )\n",
    "        synthetic_emails.append(outputs[0][\"generated_text\"][-1])\n",
    "    return synthetic_emails\n",
    "\n"
   ]
  },
  {
   "cell_type": "code",
   "execution_count": 1,
   "metadata": {},
   "outputs": [],
   "source": [
    "text = \"```json\\n{\\n  \\\"Subject\\\": \\\"Sports Roundup\\\",\\n  \\\"Body\\\": \\\"## 🏀⚾🏈⚽ 🎾🏓🏸🏏🏒\\n\\nThis week in sports, there were some exciting developments across various disciplines. Here\\'s a quick rundown:\\n\\n**🏀 NBA:** \\n* The Golden State Warriors clinched their 8th NBA championship in their history, defeating the Boston Celtics in a thrilling six-game series. Stephen Curry was once again phenomenal, earning Finals MVP honors.\\n\\n**⚾ MLB:** \\n* Shohei Ohtani continues to dominate both at the plate and on the mound. He recently hit his 30th home run of the season and is also among the league leaders in wins and ERA as a pitcher.\\n* The New York Yankees are running away with the American League East, holding a comfortable lead over their rivals. Aaron Judge is on pace for a historic season, chasing Roger Maris\\'s 61-homer record.\\n\\n**🏈 NFL:** \\n* Preseason NFL games are underway, giving fans a glimpse of what to expect in the upcoming season. Several rookies have impressed so far, including quarterbacks Trevor Lawrence and Zach Wilson.\\n* The reigning Super Bowl champion Los Angeles Rams are looking to repeat, but they face stiff competition from other contenders like the Kansas City Chiefs and Tampa Bay Buccaneers.\\n\\n**⚽ FIFA World Cup:** \\n* With less than a year to go until the FIFA World Cup in Qatar, excitement is building across the globe. Several nations have already qualified, including host Qatar, Brazil, and Argentina.\\n* Fans are eagerly anticipating the performance of star players like Lionel Messi, Cristiano Ronaldo, and Kylian Mbappé.\\n## Other Sports News\\n\\n* In tennis, Novak Djokovic continues his reign at the top of the men\\'s rankings. He recently won his 21st Grand Slam title at Wimbledon, tying the record held by Roger Federer and Rafael Nadal.\\n* The Tokyo Olympics were a resounding success, showcasing incredible athletic performances across diverse sports.\\n* Cricket fans around the world are looking forward to the upcoming ICC Men\\'s T20 World Cup in Australia. India and England are among the favorites to win the tournament.\\n\\nLet me know if you\\'d like more in-depth information on any specific sport or event.\\\"\\n}\\n```\""
   ]
  },
  {
   "cell_type": "code",
   "execution_count": 2,
   "metadata": {},
   "outputs": [],
   "source": [
    "import json"
   ]
  },
  {
   "cell_type": "code",
   "execution_count": 13,
   "metadata": {},
   "outputs": [],
   "source": [
    "import re"
   ]
  },
  {
   "cell_type": "code",
   "execution_count": null,
   "metadata": {},
   "outputs": [],
   "source": [
    "re.search(\"\")"
   ]
  },
  {
   "cell_type": "code",
   "execution_count": null,
   "metadata": {},
   "outputs": [],
   "source": [
    "json.loads(text)"
   ]
  },
  {
   "cell_type": "code",
   "execution_count": null,
   "metadata": {},
   "outputs": [],
   "source": []
  }
 ],
 "metadata": {
  "kernelspec": {
   "display_name": "Python 3",
   "language": "python",
   "name": "python3"
  },
  "language_info": {
   "codemirror_mode": {
    "name": "ipython",
    "version": 3
   },
   "file_extension": ".py",
   "mimetype": "text/x-python",
   "name": "python",
   "nbconvert_exporter": "python",
   "pygments_lexer": "ipython3",
   "version": "3.11.3"
  }
 },
 "nbformat": 4,
 "nbformat_minor": 2
}
